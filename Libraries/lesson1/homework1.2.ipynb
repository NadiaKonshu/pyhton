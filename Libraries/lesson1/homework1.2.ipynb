{
 "cells": [
  {
   "cell_type": "markdown",
   "id": "2f806e6b",
   "metadata": {},
   "source": [
    "###Задание 1\n",
    "Импортируйте библиотеку Pandas и дайте ей псевдоним pd. Создайте датафрейм authors со столбцами author_id и author_name, в которых соответственно содержатся данные: [1, 2, 3] и ['Тургенев', 'Чехов', 'Островский'].\n",
    "Затем создайте датафрейм book cо столбцами author_id, book_title и price, в которых соответственно содержатся данные:  \n",
    "[1, 1, 1, 2, 2, 3, 3],\n",
    "['Отцы и дети', 'Рудин', 'Дворянское гнездо', 'Толстый и тонкий', 'Дама с собачкой', 'Гроза', 'Таланты и поклонники'],\n",
    "[450, 300, 350, 500, 450, 370, 290].\n"
   ]
  },
  {
   "cell_type": "code",
   "execution_count": 74,
   "id": "7cb461a6",
   "metadata": {},
   "outputs": [],
   "source": [
    "import pandas as pd\n",
    "import numpy as np"
   ]
  },
  {
   "cell_type": "code",
   "execution_count": 75,
   "id": "bc4573c5",
   "metadata": {},
   "outputs": [],
   "source": [
    "authors = pd.DataFrame({'author_id': [1, 2, 3], 'author_name': ['Turgenev', 'Chehov', 'Ostrovsky']}, \n",
    "                      columns = ['author_id', 'author_name'])"
   ]
  },
  {
   "cell_type": "code",
   "execution_count": 76,
   "id": "44349494",
   "metadata": {},
   "outputs": [
    {
     "name": "stdout",
     "output_type": "stream",
     "text": [
      "   author_id author_name\n",
      "0          1    Turgenev\n",
      "1          2      Chehov\n",
      "2          3   Ostrovsky\n"
     ]
    }
   ],
   "source": [
    "print(authors)"
   ]
  },
  {
   "cell_type": "code",
   "execution_count": 77,
   "id": "87d19074",
   "metadata": {},
   "outputs": [],
   "source": [
    "books = pd.DataFrame({'author_id': [1, 1, 1, 2, 2, 3, 3],'book_title': ['Fathers and soons', 'Rudin', 'Dvorianskoe nest', 'Woman with a dog', 'Thunderstorm', 'Talents and fans', \n",
    "'Thick and thin'], 'price': [450, 300, 350, 500, 450, 370, 290]},\n",
    "                     columns = ['author_id', 'book_title', 'price'])"
   ]
  },
  {
   "cell_type": "code",
   "execution_count": 78,
   "id": "01eabd52",
   "metadata": {},
   "outputs": [
    {
     "name": "stdout",
     "output_type": "stream",
     "text": [
      "   author_id         book_title  price\n",
      "0          1  Fathers and soons    450\n",
      "1          1              Rudin    300\n",
      "2          1   Dvorianskoe nest    350\n",
      "3          2   Woman with a dog    500\n",
      "4          2       Thunderstorm    450\n",
      "5          3   Talents and fans    370\n",
      "6          3     Thick and thin    290\n"
     ]
    }
   ],
   "source": [
    "print(books)"
   ]
  },
  {
   "cell_type": "markdown",
   "id": "0744bf5d",
   "metadata": {},
   "source": [
    "###Задание 2\n",
    "Получите датафрейм authors_price, соединив датафреймы authors и books по полю author_id.\n"
   ]
  },
  {
   "cell_type": "code",
   "execution_count": 79,
   "id": "36381592",
   "metadata": {},
   "outputs": [],
   "source": [
    "authors_price = pd.merge(authors, books, on = 'author_id', how = 'outer' )"
   ]
  },
  {
   "cell_type": "code",
   "execution_count": 80,
   "id": "847b82c8",
   "metadata": {},
   "outputs": [
    {
     "name": "stdout",
     "output_type": "stream",
     "text": [
      "   author_id author_name         book_title  price\n",
      "0          1    Turgenev  Fathers and soons    450\n",
      "1          1    Turgenev              Rudin    300\n",
      "2          1    Turgenev   Dvorianskoe nest    350\n",
      "3          2      Chehov   Woman with a dog    500\n",
      "4          2      Chehov       Thunderstorm    450\n",
      "5          3   Ostrovsky   Talents and fans    370\n",
      "6          3   Ostrovsky     Thick and thin    290\n"
     ]
    }
   ],
   "source": [
    "print(authors_price)"
   ]
  },
  {
   "cell_type": "markdown",
   "id": "e96640b5",
   "metadata": {},
   "source": [
    "###Задание 3\n",
    "Создайте датафрейм top5, в котором содержатся строки из authors_price с пятью самыми дорогими книгами.\n"
   ]
  },
  {
   "cell_type": "code",
   "execution_count": 81,
   "id": "89dbc06c",
   "metadata": {},
   "outputs": [],
   "source": [
    "top5 = authors_price.nlargest(5, 'price') \n"
   ]
  },
  {
   "cell_type": "code",
   "execution_count": 82,
   "id": "003070c8",
   "metadata": {},
   "outputs": [
    {
     "name": "stdout",
     "output_type": "stream",
     "text": [
      "   author_id author_name         book_title  price\n",
      "3          2      Chehov   Woman with a dog    500\n",
      "0          1    Turgenev  Fathers and soons    450\n",
      "4          2      Chehov       Thunderstorm    450\n",
      "5          3   Ostrovsky   Talents and fans    370\n",
      "2          1    Turgenev   Dvorianskoe nest    350\n"
     ]
    }
   ],
   "source": [
    "print(top5)"
   ]
  },
  {
   "cell_type": "markdown",
   "id": "3d8c7ee2",
   "metadata": {},
   "source": [
    "###Задание 4 Создайте датафрейм authors_stat на основе информации из authors_price. В датафрейме authors_stat должны быть четыре столбца:\n",
    "author_name, min_price, max_price и mean_price,\n",
    "в которых должны содержаться соответственно имя автора, минимальная, максимальная и средняя цена на книги этого автора.\n"
   ]
  },
  {
   "cell_type": "code",
   "execution_count": 83,
   "id": "6c57dad9",
   "metadata": {},
   "outputs": [
    {
     "name": "stdout",
     "output_type": "stream",
     "text": [
      "                price                      \n",
      "            max_price min_price  mean_price\n",
      "author_name                                \n",
      "Chehov            500       450  475.000000\n",
      "Ostrovsky         370       290  330.000000\n",
      "Turgenev          450       300  366.666667\n"
     ]
    }
   ],
   "source": [
    "authors_stat  = authors_price.groupby('author_name').agg({'price' : ['max', 'min', 'mean']})\n",
    "authors_stat  = authors_stat.rename(columns={'max': 'max_price', 'min': 'min_price','mean': 'mean_price'})\n",
    "print(authors_stat)"
   ]
  },
  {
   "cell_type": "markdown",
   "id": "23870b8d",
   "metadata": {},
   "source": [
    "###Задание 5 Создайте новый столбец в датафрейме authors_price под названием cover, в нем будут располагаться данные о том, какая обложка у данной книги - твердая или мягкая. В этот столбец поместите данные из следующего списка:\n",
    "['твердая', 'мягкая', 'мягкая', 'твердая', 'твердая', 'мягкая', 'мягкая'].\n",
    "Просмотрите документацию по функции pd.pivot_table с помощью вопросительного знака.Для каждого автора посчитайте суммарную стоимость книг в твердой и мягкой обложке. Используйте для этого функцию pd.pivot_table. При этом столбцы должны называться \"твердая\" и \"мягкая\", а индексами должны быть фамилии авторов. Пропущенные значения стоимостей заполните нулями, при необходимости загрузите библиотеку Numpy.\n",
    "Назовите полученный датасет book_info и сохраните его в формат pickle под названием \"book_info.pkl\". Затем загрузите из этого файла датафрейм и назовите его book_info2. Удостоверьтесь, что датафреймы book_info и book_info2 идентичны.\n"
   ]
  },
  {
   "cell_type": "code",
   "execution_count": 84,
   "id": "76fc0532",
   "metadata": {},
   "outputs": [
    {
     "name": "stdout",
     "output_type": "stream",
     "text": [
      "   author_id author_name         book_title  price    cover\n",
      "0          1    Turgenev  Fathers and soons    450  твердая\n",
      "1          1    Turgenev              Rudin    300   мягкая\n",
      "2          1    Turgenev   Dvorianskoe nest    350   мягкая\n",
      "3          2      Chehov   Woman with a dog    500  твердая\n",
      "4          2      Chehov       Thunderstorm    450  твердая\n",
      "5          3   Ostrovsky   Talents and fans    370   мягкая\n",
      "6          3   Ostrovsky     Thick and thin    290   мягкая\n"
     ]
    }
   ],
   "source": [
    "authors_price['cover'] = ['твердая', 'мягкая', 'мягкая', 'твердая', 'твердая', 'мягкая', 'мягкая']\n",
    "print(authors_price)\n"
   ]
  },
  {
   "cell_type": "code",
   "execution_count": 85,
   "id": "b1052ae6",
   "metadata": {},
   "outputs": [
    {
     "name": "stdout",
     "output_type": "stream",
     "text": [
      "cover        мягкая  твердая\n",
      "author_name                 \n",
      "Chehov          0.0    950.0\n",
      "Ostrovsky     660.0      0.0\n",
      "Turgenev      650.0    450.0\n"
     ]
    }
   ],
   "source": [
    "book_info = pd.pivot_table(authors_price, values='price', index=['author_name'], columns=['cover'], aggfunc=np.sum)\n",
    "book_info['мягкая'] = book_info['мягкая'].fillna(0)\n",
    "book_info['твердая'] = book_info['твердая'].fillna(0)\n",
    "print(book_info)"
   ]
  },
  {
   "cell_type": "code",
   "execution_count": 88,
   "id": "146f9162",
   "metadata": {},
   "outputs": [],
   "source": [
    "book_info.to_pickle('book_info.pkl')"
   ]
  },
  {
   "cell_type": "code",
   "execution_count": 93,
   "id": "fac416e1",
   "metadata": {},
   "outputs": [
    {
     "name": "stdout",
     "output_type": "stream",
     "text": [
      "cover        мягкая  твердая\n",
      "author_name                 \n",
      "Chehov          0.0    950.0\n",
      "Ostrovsky     660.0      0.0\n",
      "Turgenev      650.0    450.0\n"
     ]
    }
   ],
   "source": [
    "book_info2 = pd.read_pickle('book_info.pkl')\n",
    "print(book_info2)"
   ]
  },
  {
   "cell_type": "code",
   "execution_count": 94,
   "id": "1daa3e6a",
   "metadata": {},
   "outputs": [
    {
     "data": {
      "text/plain": [
       "True"
      ]
     },
     "execution_count": 94,
     "metadata": {},
     "output_type": "execute_result"
    }
   ],
   "source": [
    "book_info.equals(book_info2)"
   ]
  },
  {
   "cell_type": "code",
   "execution_count": null,
   "id": "3882026a",
   "metadata": {},
   "outputs": [],
   "source": []
  }
 ],
 "metadata": {
  "kernelspec": {
   "display_name": "Python 3 (ipykernel)",
   "language": "python",
   "name": "python3"
  },
  "language_info": {
   "codemirror_mode": {
    "name": "ipython",
    "version": 3
   },
   "file_extension": ".py",
   "mimetype": "text/x-python",
   "name": "python",
   "nbconvert_exporter": "python",
   "pygments_lexer": "ipython3",
   "version": "3.9.12"
  }
 },
 "nbformat": 4,
 "nbformat_minor": 5
}
